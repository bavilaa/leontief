{
 "cells": [
  {
   "cell_type": "code",
   "execution_count": 1,
   "metadata": {},
   "outputs": [],
   "source": [
    "#reload(sys)\n",
    "#sys.setdefaultencoding(\"utf-8\")\n",
    "\n",
    "# \n",
    "#   __________\n",
    "# / ___  ___ \\\n",
    "# / / @ \\/ @ \\ \\\n",
    "# \\ \\___/\\___/ /\\\n",
    "# \\____\\/____/||\n",
    "#   /     /\\\\\\\\\\//\n",
    "#  |     |\\\\\\\\\\\\\n",
    "#  \\      \\\\\\\\\\\\\n",
    "#  \\______/\\\\\\\\\n",
    "# _||_||_\n",
    "# -- --\n",
    "#Y si ..."
   ]
  },
  {
   "cell_type": "code",
   "execution_count": 2,
   "metadata": {},
   "outputs": [],
   "source": [
    "#importacion de librerías\n",
    "import pandas as pd\n",
    "import sys\n",
    "import numpy as np"
   ]
  },
  {
   "cell_type": "code",
   "execution_count": 3,
   "metadata": {},
   "outputs": [
    {
     "name": "stderr",
     "output_type": "stream",
     "text": [
      "C:\\Users\\Bruno\\Anaconda3\\lib\\site-packages\\pandas\\util\\_decorators.py:188: FutureWarning: The `sheetname` keyword is deprecated, use `sheet_name` instead\n",
      "  return func(*args, **kwargs)\n"
     ]
    },
    {
     "ename": "FileNotFoundError",
     "evalue": "[Errno 2] No such file or directory: 'mips/2016_MIP_12x12.xlsx'",
     "output_type": "error",
     "traceback": [
      "\u001b[1;31m---------------------------------------------------------------------------\u001b[0m",
      "\u001b[1;31mFileNotFoundError\u001b[0m                         Traceback (most recent call last)",
      "\u001b[1;32m<ipython-input-3-3102ed4e5c31>\u001b[0m in \u001b[0;36m<module>\u001b[1;34m\u001b[0m\n\u001b[0;32m     17\u001b[0m \u001b[1;33m\u001b[0m\u001b[0m\n\u001b[0;32m     18\u001b[0m \u001b[1;33m\u001b[0m\u001b[0m\n\u001b[1;32m---> 19\u001b[1;33m \u001b[0mexcel\u001b[0m \u001b[1;33m=\u001b[0m \u001b[0mpd\u001b[0m\u001b[1;33m.\u001b[0m\u001b[0mread_excel\u001b[0m\u001b[1;33m(\u001b[0m\u001b[1;34m\"mips/\"\u001b[0m \u001b[1;33m+\u001b[0m \u001b[0marchivo\u001b[0m \u001b[1;33m,\u001b[0m\u001b[0msheetname\u001b[0m\u001b[1;33m=\u001b[0m\u001b[0mhoja\u001b[0m\u001b[1;33m,\u001b[0m \u001b[0mskiprows\u001b[0m\u001b[1;33m=\u001b[0m\u001b[0mskip\u001b[0m\u001b[1;33m)\u001b[0m\u001b[1;33m\u001b[0m\u001b[1;33m\u001b[0m\u001b[0m\n\u001b[0m",
      "\u001b[1;32m~\\Anaconda3\\lib\\site-packages\\pandas\\util\\_decorators.py\u001b[0m in \u001b[0;36mwrapper\u001b[1;34m(*args, **kwargs)\u001b[0m\n\u001b[0;32m    186\u001b[0m                 \u001b[1;32melse\u001b[0m\u001b[1;33m:\u001b[0m\u001b[1;33m\u001b[0m\u001b[1;33m\u001b[0m\u001b[0m\n\u001b[0;32m    187\u001b[0m                     \u001b[0mkwargs\u001b[0m\u001b[1;33m[\u001b[0m\u001b[0mnew_arg_name\u001b[0m\u001b[1;33m]\u001b[0m \u001b[1;33m=\u001b[0m \u001b[0mnew_arg_value\u001b[0m\u001b[1;33m\u001b[0m\u001b[1;33m\u001b[0m\u001b[0m\n\u001b[1;32m--> 188\u001b[1;33m             \u001b[1;32mreturn\u001b[0m \u001b[0mfunc\u001b[0m\u001b[1;33m(\u001b[0m\u001b[1;33m*\u001b[0m\u001b[0margs\u001b[0m\u001b[1;33m,\u001b[0m \u001b[1;33m**\u001b[0m\u001b[0mkwargs\u001b[0m\u001b[1;33m)\u001b[0m\u001b[1;33m\u001b[0m\u001b[1;33m\u001b[0m\u001b[0m\n\u001b[0m\u001b[0;32m    189\u001b[0m         \u001b[1;32mreturn\u001b[0m \u001b[0mwrapper\u001b[0m\u001b[1;33m\u001b[0m\u001b[1;33m\u001b[0m\u001b[0m\n\u001b[0;32m    190\u001b[0m     \u001b[1;32mreturn\u001b[0m \u001b[0m_deprecate_kwarg\u001b[0m\u001b[1;33m\u001b[0m\u001b[1;33m\u001b[0m\u001b[0m\n",
      "\u001b[1;32m~\\Anaconda3\\lib\\site-packages\\pandas\\util\\_decorators.py\u001b[0m in \u001b[0;36mwrapper\u001b[1;34m(*args, **kwargs)\u001b[0m\n\u001b[0;32m    186\u001b[0m                 \u001b[1;32melse\u001b[0m\u001b[1;33m:\u001b[0m\u001b[1;33m\u001b[0m\u001b[1;33m\u001b[0m\u001b[0m\n\u001b[0;32m    187\u001b[0m                     \u001b[0mkwargs\u001b[0m\u001b[1;33m[\u001b[0m\u001b[0mnew_arg_name\u001b[0m\u001b[1;33m]\u001b[0m \u001b[1;33m=\u001b[0m \u001b[0mnew_arg_value\u001b[0m\u001b[1;33m\u001b[0m\u001b[1;33m\u001b[0m\u001b[0m\n\u001b[1;32m--> 188\u001b[1;33m             \u001b[1;32mreturn\u001b[0m \u001b[0mfunc\u001b[0m\u001b[1;33m(\u001b[0m\u001b[1;33m*\u001b[0m\u001b[0margs\u001b[0m\u001b[1;33m,\u001b[0m \u001b[1;33m**\u001b[0m\u001b[0mkwargs\u001b[0m\u001b[1;33m)\u001b[0m\u001b[1;33m\u001b[0m\u001b[1;33m\u001b[0m\u001b[0m\n\u001b[0m\u001b[0;32m    189\u001b[0m         \u001b[1;32mreturn\u001b[0m \u001b[0mwrapper\u001b[0m\u001b[1;33m\u001b[0m\u001b[1;33m\u001b[0m\u001b[0m\n\u001b[0;32m    190\u001b[0m     \u001b[1;32mreturn\u001b[0m \u001b[0m_deprecate_kwarg\u001b[0m\u001b[1;33m\u001b[0m\u001b[1;33m\u001b[0m\u001b[0m\n",
      "\u001b[1;32m~\\Anaconda3\\lib\\site-packages\\pandas\\io\\excel.py\u001b[0m in \u001b[0;36mread_excel\u001b[1;34m(io, sheet_name, header, names, index_col, parse_cols, usecols, squeeze, dtype, engine, converters, true_values, false_values, skiprows, nrows, na_values, keep_default_na, verbose, parse_dates, date_parser, thousands, comment, skip_footer, skipfooter, convert_float, mangle_dupe_cols, **kwds)\u001b[0m\n\u001b[0;32m    348\u001b[0m \u001b[1;33m\u001b[0m\u001b[0m\n\u001b[0;32m    349\u001b[0m     \u001b[1;32mif\u001b[0m \u001b[1;32mnot\u001b[0m \u001b[0misinstance\u001b[0m\u001b[1;33m(\u001b[0m\u001b[0mio\u001b[0m\u001b[1;33m,\u001b[0m \u001b[0mExcelFile\u001b[0m\u001b[1;33m)\u001b[0m\u001b[1;33m:\u001b[0m\u001b[1;33m\u001b[0m\u001b[1;33m\u001b[0m\u001b[0m\n\u001b[1;32m--> 350\u001b[1;33m         \u001b[0mio\u001b[0m \u001b[1;33m=\u001b[0m \u001b[0mExcelFile\u001b[0m\u001b[1;33m(\u001b[0m\u001b[0mio\u001b[0m\u001b[1;33m,\u001b[0m \u001b[0mengine\u001b[0m\u001b[1;33m=\u001b[0m\u001b[0mengine\u001b[0m\u001b[1;33m)\u001b[0m\u001b[1;33m\u001b[0m\u001b[1;33m\u001b[0m\u001b[0m\n\u001b[0m\u001b[0;32m    351\u001b[0m \u001b[1;33m\u001b[0m\u001b[0m\n\u001b[0;32m    352\u001b[0m     return io.parse(\n",
      "\u001b[1;32m~\\Anaconda3\\lib\\site-packages\\pandas\\io\\excel.py\u001b[0m in \u001b[0;36m__init__\u001b[1;34m(self, io, engine)\u001b[0m\n\u001b[0;32m    651\u001b[0m         \u001b[0mself\u001b[0m\u001b[1;33m.\u001b[0m\u001b[0m_io\u001b[0m \u001b[1;33m=\u001b[0m \u001b[0m_stringify_path\u001b[0m\u001b[1;33m(\u001b[0m\u001b[0mio\u001b[0m\u001b[1;33m)\u001b[0m\u001b[1;33m\u001b[0m\u001b[1;33m\u001b[0m\u001b[0m\n\u001b[0;32m    652\u001b[0m \u001b[1;33m\u001b[0m\u001b[0m\n\u001b[1;32m--> 653\u001b[1;33m         \u001b[0mself\u001b[0m\u001b[1;33m.\u001b[0m\u001b[0m_reader\u001b[0m \u001b[1;33m=\u001b[0m \u001b[0mself\u001b[0m\u001b[1;33m.\u001b[0m\u001b[0m_engines\u001b[0m\u001b[1;33m[\u001b[0m\u001b[0mengine\u001b[0m\u001b[1;33m]\u001b[0m\u001b[1;33m(\u001b[0m\u001b[0mself\u001b[0m\u001b[1;33m.\u001b[0m\u001b[0m_io\u001b[0m\u001b[1;33m)\u001b[0m\u001b[1;33m\u001b[0m\u001b[1;33m\u001b[0m\u001b[0m\n\u001b[0m\u001b[0;32m    654\u001b[0m \u001b[1;33m\u001b[0m\u001b[0m\n\u001b[0;32m    655\u001b[0m     \u001b[1;32mdef\u001b[0m \u001b[0m__fspath__\u001b[0m\u001b[1;33m(\u001b[0m\u001b[0mself\u001b[0m\u001b[1;33m)\u001b[0m\u001b[1;33m:\u001b[0m\u001b[1;33m\u001b[0m\u001b[1;33m\u001b[0m\u001b[0m\n",
      "\u001b[1;32m~\\Anaconda3\\lib\\site-packages\\pandas\\io\\excel.py\u001b[0m in \u001b[0;36m__init__\u001b[1;34m(self, filepath_or_buffer)\u001b[0m\n\u001b[0;32m    422\u001b[0m             \u001b[0mself\u001b[0m\u001b[1;33m.\u001b[0m\u001b[0mbook\u001b[0m \u001b[1;33m=\u001b[0m \u001b[0mxlrd\u001b[0m\u001b[1;33m.\u001b[0m\u001b[0mopen_workbook\u001b[0m\u001b[1;33m(\u001b[0m\u001b[0mfile_contents\u001b[0m\u001b[1;33m=\u001b[0m\u001b[0mdata\u001b[0m\u001b[1;33m)\u001b[0m\u001b[1;33m\u001b[0m\u001b[1;33m\u001b[0m\u001b[0m\n\u001b[0;32m    423\u001b[0m         \u001b[1;32melif\u001b[0m \u001b[0misinstance\u001b[0m\u001b[1;33m(\u001b[0m\u001b[0mfilepath_or_buffer\u001b[0m\u001b[1;33m,\u001b[0m \u001b[0mcompat\u001b[0m\u001b[1;33m.\u001b[0m\u001b[0mstring_types\u001b[0m\u001b[1;33m)\u001b[0m\u001b[1;33m:\u001b[0m\u001b[1;33m\u001b[0m\u001b[1;33m\u001b[0m\u001b[0m\n\u001b[1;32m--> 424\u001b[1;33m             \u001b[0mself\u001b[0m\u001b[1;33m.\u001b[0m\u001b[0mbook\u001b[0m \u001b[1;33m=\u001b[0m \u001b[0mxlrd\u001b[0m\u001b[1;33m.\u001b[0m\u001b[0mopen_workbook\u001b[0m\u001b[1;33m(\u001b[0m\u001b[0mfilepath_or_buffer\u001b[0m\u001b[1;33m)\u001b[0m\u001b[1;33m\u001b[0m\u001b[1;33m\u001b[0m\u001b[0m\n\u001b[0m\u001b[0;32m    425\u001b[0m         \u001b[1;32melse\u001b[0m\u001b[1;33m:\u001b[0m\u001b[1;33m\u001b[0m\u001b[1;33m\u001b[0m\u001b[0m\n\u001b[0;32m    426\u001b[0m             raise ValueError('Must explicitly set engine if not passing in'\n",
      "\u001b[1;32m~\\Anaconda3\\lib\\site-packages\\xlrd\\__init__.py\u001b[0m in \u001b[0;36mopen_workbook\u001b[1;34m(filename, logfile, verbosity, use_mmap, file_contents, encoding_override, formatting_info, on_demand, ragged_rows)\u001b[0m\n\u001b[0;32m    109\u001b[0m     \u001b[1;32melse\u001b[0m\u001b[1;33m:\u001b[0m\u001b[1;33m\u001b[0m\u001b[1;33m\u001b[0m\u001b[0m\n\u001b[0;32m    110\u001b[0m         \u001b[0mfilename\u001b[0m \u001b[1;33m=\u001b[0m \u001b[0mos\u001b[0m\u001b[1;33m.\u001b[0m\u001b[0mpath\u001b[0m\u001b[1;33m.\u001b[0m\u001b[0mexpanduser\u001b[0m\u001b[1;33m(\u001b[0m\u001b[0mfilename\u001b[0m\u001b[1;33m)\u001b[0m\u001b[1;33m\u001b[0m\u001b[1;33m\u001b[0m\u001b[0m\n\u001b[1;32m--> 111\u001b[1;33m         \u001b[1;32mwith\u001b[0m \u001b[0mopen\u001b[0m\u001b[1;33m(\u001b[0m\u001b[0mfilename\u001b[0m\u001b[1;33m,\u001b[0m \u001b[1;34m\"rb\"\u001b[0m\u001b[1;33m)\u001b[0m \u001b[1;32mas\u001b[0m \u001b[0mf\u001b[0m\u001b[1;33m:\u001b[0m\u001b[1;33m\u001b[0m\u001b[1;33m\u001b[0m\u001b[0m\n\u001b[0m\u001b[0;32m    112\u001b[0m             \u001b[0mpeek\u001b[0m \u001b[1;33m=\u001b[0m \u001b[0mf\u001b[0m\u001b[1;33m.\u001b[0m\u001b[0mread\u001b[0m\u001b[1;33m(\u001b[0m\u001b[0mpeeksz\u001b[0m\u001b[1;33m)\u001b[0m\u001b[1;33m\u001b[0m\u001b[1;33m\u001b[0m\u001b[0m\n\u001b[0;32m    113\u001b[0m     \u001b[1;32mif\u001b[0m \u001b[0mpeek\u001b[0m \u001b[1;33m==\u001b[0m \u001b[1;34mb\"PK\\x03\\x04\"\u001b[0m\u001b[1;33m:\u001b[0m \u001b[1;31m# a ZIP file\u001b[0m\u001b[1;33m\u001b[0m\u001b[1;33m\u001b[0m\u001b[0m\n",
      "\u001b[1;31mFileNotFoundError\u001b[0m: [Errno 2] No such file or directory: 'mips/2016_MIP_12x12.xlsx'"
     ]
    }
   ],
   "source": [
    "#Cargando datos numericos de la matriz:\n",
    "\n",
    "\n",
    "#Parametros fijos\n",
    "archivo = \"2016_MIP_12x12.xlsx\"\n",
    "year = 2016\n",
    "\n",
    "#Vector Hojas, pendiente.\n",
    "\n",
    "hojas = [\"1\" , \"5\" , \"7\" ,  \"9\" , \"11\" ,\"13\", \"15\" , \"17\", \"19\" , \"21\"]\n",
    "\n",
    "hoja = \"1\"\n",
    "\n",
    "#numero a saltar de lineas\n",
    "\n",
    "skip = 8\n",
    "\n",
    "\n",
    "excel = pd.read_excel(\"mips/\" + archivo ,sheetname=hoja, skiprows=skip)"
   ]
  },
  {
   "cell_type": "code",
   "execution_count": null,
   "metadata": {},
   "outputs": [],
   "source": [
    "#excel = excel.rename(columns= {'1': 'Producto'}\n",
    "#Renombrando la primera columna\n",
    "#excel.rename( columns={'Unnamed: 1':'Producto'}, inplace=True )\n",
    "\n",
    "excel = excel.rename( columns={'Unnamed: 1':'Producto',\n",
    "                              'Unnamed: 17':'Consumo_hogares',\n",
    "                               'Unnamed: 19':'Consumo_IPSFL',\n",
    "                               'Unnamed: 21':'Consumo_Gob',\n",
    "                               'Unnamed: 23':'FBKF',\n",
    "                               'Unnamed: 25':'Var_Existencias',\n",
    "                               'Unnamed: 27':'Exportaciones',\n",
    "                              'Unnamed: 29': 'Produccion_PB'})\n",
    "\n",
    "#Eliminando Total\n",
    "\n",
    "excel = excel[excel.Producto!=\"Total\"]\n"
   ]
  },
  {
   "cell_type": "code",
   "execution_count": null,
   "metadata": {},
   "outputs": [],
   "source": [
    "#Vector de Producción (X)\n",
    "\n",
    "X = excel[['Produccion_PB']]\n",
    "\n",
    "#Eliminado nulos\n",
    "\n",
    "X = X.dropna()\n",
    "\n",
    "#Reetiando INdex\n",
    "\n",
    "X = X.reset_index(drop=True)\n",
    "\n"
   ]
  },
  {
   "cell_type": "code",
   "execution_count": null,
   "metadata": {},
   "outputs": [],
   "source": [
    "#Cargando Coeficientes de de la Matriz Inversa de Lentief\n",
    "\n",
    "#Cargando datos numericos de la matriz:\n",
    "\n",
    "\n",
    "#Parametros fijos\n",
    "archivo = \"2016_MIP_12x12.xlsx\"\n",
    "year = 2016\n",
    "\n",
    "#Vector Hojas, pendiente.\n",
    "\n",
    "hojas = [\"1\" , \"5\" , \"7\" ,  \"9\" , \"11\" ,\"13\", \"15\" , \"17\", \"19\" , \"21\"]\n",
    "\n",
    "hoja = \"3\"\n",
    "\n",
    "#numero a saltar de lineas\n",
    "\n",
    "skip = 6\n",
    "\n",
    "\n",
    "leontief = pd.read_excel(\"mips/\" + archivo ,sheetname=hoja, skiprows=skip)"
   ]
  },
  {
   "cell_type": "code",
   "execution_count": null,
   "metadata": {},
   "outputs": [],
   "source": [
    "#Eliminar todas las rilas que sean nan (filas vacías del excel)\n",
    "\n",
    "leontief = leontief.dropna(how=\"all\")\n",
    "\n",
    "#Eliminar la primera columna\n",
    "\n",
    "leontief = leontief.drop(leontief.columns[0], axis=1)\n",
    "leontief = leontief.drop(leontief.columns[0], axis=1)\n",
    "\n",
    "#Eliinando la ultima fila con totales de los coeficientes:\n",
    "\n",
    "leontief.drop(leontief.tail(1).index,inplace=True) # drop last n rows\n",
    "\n",
    "#Resetiando Index\n",
    "\n",
    "leontief = leontief.reset_index(drop=True)\n",
    "\n"
   ]
  },
  {
   "cell_type": "code",
   "execution_count": null,
   "metadata": {},
   "outputs": [],
   "source": [
    "\n",
    "y = excel[['Consumo_hogares' , 'Consumo_IPSFL' , 'Consumo_Gob',\n",
    "     'FBKF' , 'Var_Existencias' , 'Exportaciones' \n",
    "     ]]\n",
    "\n",
    "\n",
    "y = y.dropna()\n",
    "\n",
    "#Reetiando INdex\n",
    "\n",
    "y = y.reset_index(drop=True)\n",
    "\n",
    "#C = Consumo de Hogares\n",
    "#CIPS = Consumo IPSFL\n",
    "#G = Consumo gobierno\n",
    "#I = FBKB\n",
    "#S = Var Existencias\n",
    "#EX = Exportaciones\n",
    "\n",
    "C_p = y[['Consumo_hogares']]\n",
    "CIPS_p = y[['Consumo_IPSFL']]\n",
    "G_p = y[['Consumo_Gob']]\n",
    "I_p = y[['FBKF']]\n",
    "S_p = y[['Var_Existencias']]\n",
    "EX_p = y[['Exportaciones']]\n",
    "\n",
    "\n",
    "\n"
   ]
  },
  {
   "cell_type": "code",
   "execution_count": null,
   "metadata": {},
   "outputs": [],
   "source": [
    "#Consumo Total\n",
    "\n",
    "y2 = y.copy()\n",
    "y2['Y'] = y2.sum(axis=1)\n",
    "\n",
    "y2 = y2[['Y']]\n",
    "\n",
    "#Se resetea el indice, ya que las columnas de la matriz deben llamarse igual que el vector\n",
    "y2.index = y2.index + 1"
   ]
  },
  {
   "cell_type": "code",
   "execution_count": null,
   "metadata": {},
   "outputs": [],
   "source": [
    "# Validacion que la multiplicacion de la inversa de Leontief sea la produccion original:\n",
    "\n",
    "Xval = leontief.dot(y2)\n",
    "Z = Xval['Y'] - X['Produccion_PB']\n",
    "Z\n"
   ]
  },
  {
   "cell_type": "code",
   "execution_count": null,
   "metadata": {},
   "outputs": [],
   "source": [
    "excel.head(10)"
   ]
  },
  {
   "cell_type": "markdown",
   "metadata": {},
   "source": [
    "# 2.- Obteniendo VA total en una columna para calcular coeficiente de VA"
   ]
  },
  {
   "cell_type": "code",
   "execution_count": null,
   "metadata": {},
   "outputs": [],
   "source": [
    "VA = excel[excel.Producto==\"Valor agregado \"]\n",
    "\n"
   ]
  },
  {
   "cell_type": "code",
   "execution_count": null,
   "metadata": {},
   "outputs": [],
   "source": [
    "#Eliminando Columnas con NA\n",
    "VA = VA.dropna(axis='columns')\n",
    "#Eliminando total\n",
    "del VA['Total']\n",
    "\n",
    "VA = VA.transpose()\n",
    "\n",
    "\n",
    "\n",
    "#Eliminando la primera fila\n",
    "\n",
    "VA = VA[1:]\n",
    "\n",
    "VA = VA.rename(columns= {22: 'PIB'})\n",
    "\n",
    "VA = VA.reset_index(drop=True)"
   ]
  },
  {
   "cell_type": "code",
   "execution_count": null,
   "metadata": {},
   "outputs": [],
   "source": [
    "# Obteniendo Coeficiente de VA para poder multiplicar con la produccion resultante del Shock:\n",
    "\n",
    "VA['Coef'] = VA['PIB'] / X['Produccion_PB']"
   ]
  },
  {
   "cell_type": "markdown",
   "metadata": {},
   "source": [
    "# Generando un shock en la demanda"
   ]
  },
  {
   "cell_type": "code",
   "execution_count": null,
   "metadata": {},
   "outputs": [],
   "source": [
    "#Parametros fijos\n",
    "archivo = \"2016_MIP_12x12.xlsx\"\n",
    "year = 2016\n",
    "\n",
    "#Vector Hojas, pendiente.\n",
    "\n",
    "hojas = [\"1\" , \"5\" , \"7\" ,  \"9\" , \"11\" ,\"13\", \"15\" , \"17\", \"19\" , \"21\"]\n",
    "\n",
    "hoja = \"aux_nombres\"\n",
    "\n",
    "skip = 0\n",
    "\n",
    "\n",
    "\n",
    "aux_nombres = pd.read_excel(\"mips/\" + archivo ,sheetname=hoja, skiprows=skip)\n",
    "\n",
    "aux_nombres = aux_nombres.rename(index={12: 'Total'})\n",
    "\n",
    "\n",
    "\n",
    "#Matriz de resultados finales:\n",
    "\n",
    "columns = ['Actividad', 'Produccion_PB', 'PB_Sim' , 'Dif_pp','fila','columna','shock','year']\n",
    "resultado_final = pd.DataFrame(columns=columns) #empty dataframe"
   ]
  },
  {
   "cell_type": "code",
   "execution_count": null,
   "metadata": {
    "scrolled": true
   },
   "outputs": [],
   "source": [
    "#shock\n",
    "\n",
    "#shocks = [0.8,0.9,1.1,1.2]\n",
    "\n",
    "shocks = np.arange(-1,2,1)\n",
    "\n",
    "\n",
    "\n",
    "h = 0\n",
    "z = 0\n",
    "\n",
    "for shock in shocks:\n",
    "    for j in range(0,7):\n",
    "\n",
    "        for i in range(1, 12):\n",
    "            \n",
    "            \n",
    "            #pasando el shock a un float, ya que al dividir este entero generaba\n",
    "            #valores 0 al transformarse en decimal\n",
    "            \n",
    "            shock = float(shock)\n",
    "\n",
    "            y_sim = y.copy()\n",
    "\n",
    "            #Resetiando indice para que coincida con actividad y sea de facil lectura\n",
    "            y_sim.index = y_sim.index + 1\n",
    "\n",
    "            y_sim\n",
    "\n",
    "            # Porcentaje del shock\n",
    "            #i = 1\n",
    "            #j = 5\n",
    "            \n",
    "            #Se creo en el indice j un valor adicional \n",
    "            #para calcular el total de una caida en el consumo\n",
    "            #total, por lo tanto si se llega al ultimo elemento\n",
    "            #en este caso 6 solo se debe realizar un cambio en el \n",
    "            #vector agregado de produccion total\n",
    "            \n",
    "            if j<6:\n",
    "\n",
    "                \n",
    "                y_sim.ix[i][j]\n",
    "                y_sim.ix[i][j] = y_sim.ix[i][j] * (1 + ( (shock)/ 100 ))\n",
    "\n",
    "                y_sim.ix[i][j]\n",
    "                \n",
    "\n",
    "            else:\n",
    "                y_sim.ix[i] = y_sim.ix[i] * (1 + ( (shock)/ 100 ))\n",
    "                \n",
    "                \n",
    "\n",
    "            #Calculando consumo total\n",
    "\n",
    "            y_sim['PB_Sim'] = y_sim.sum(axis=1)\n",
    "\n",
    "            y_sim = y_sim[['PB_Sim']]\n",
    "\n",
    "            #Se resetea el indice, ya que las columnas de la matriz deben llamarse igual que el vector\n",
    "            #y2.index = y2.index + 1\n",
    "\n",
    "\n",
    "\n",
    "            #Calculando nueva producción resultante:\n",
    "            X_sim = leontief.dot(y_sim)\n",
    "\n",
    "\n",
    "\n",
    "            resultado = pd.concat([X, X_sim], axis=1)\n",
    "\n",
    "\n",
    "            #Total fila\n",
    "\n",
    "\n",
    "            #juntando con los nombres:\n",
    "            resultado.loc['Total'] = resultado.sum()\n",
    "            #Diferencia porcentual:\n",
    "            resultado['Dif_pp'] = (resultado['PB_Sim'] / resultado['Produccion_PB']) * 100 - 100   \n",
    "\n",
    "            resultado = pd.merge(aux_nombres, resultado, left_index=True, right_index=True)\n",
    "\n",
    "\n",
    "\n",
    "            ### Guardando simulacion\n",
    "\n",
    "            #fila\n",
    "            resultado['fila'] = i\n",
    "            resultado['columna'] = j\n",
    "            resultado['shock'] = shock\n",
    "            resultado['year'] = year\n",
    "\n",
    "            resultado_final = pd.concat([resultado_final,resultado])\n",
    "\n",
    "            h = h +1\n",
    "            \n",
    "            z = z + 1\n",
    "            \n",
    "            if z == 100 : \n",
    "                z = 0\n",
    "                print (\"iteracion \" + str(h))\n",
    "            \n",
    "            \n"
   ]
  },
  {
   "cell_type": "code",
   "execution_count": null,
   "metadata": {},
   "outputs": [],
   "source": [
    "#Agreando etiquetas para identificar origen del shock\n",
    "archivo2 = \"C:/Proyectos/estadisticas/leontief/aux_leontief.xlsx\"\n",
    "\n",
    "filas = pd.read_excel(archivo2 ,sheetname=\"aux_filas\" ,encoding = 'utf-8')\n",
    "\n",
    "columnas = pd.read_excel(archivo2 ,sheetname=\"aux_columnas\" , encoding = 'utf-8')\n",
    "\n",
    "orden = pd.read_excel(archivo2 ,sheetname=\"aux_orden\" , encoding = 'utf-8')\n",
    "\n",
    "\n"
   ]
  },
  {
   "cell_type": "code",
   "execution_count": null,
   "metadata": {},
   "outputs": [],
   "source": [
    "#Agregando actividades\n",
    "resultado_final2 = pd.merge(resultado_final, filas, how='left', on=None, left_on=\"fila\", right_on=\"Filas\")\n",
    "#Agregando componente consumo\n",
    "resultado_final2 = pd.merge(resultado_final2,columnas, how='left', on = None, left_on=\"columna\", right_on=\"Columnas\")\n",
    "#Agregando auxiliar para ordenar datos segun actividad\n",
    "resultado_final2 = pd.merge(resultado_final2,orden, how='left', on = None, left_on=\"Actividad\", right_on=\"Actividades\")\n",
    "\n",
    "\n"
   ]
  },
  {
   "cell_type": "code",
   "execution_count": null,
   "metadata": {},
   "outputs": [],
   "source": [
    "resultado_final2.loc[resultado_final2['Actividad']==\"Total\"].head(5)\n"
   ]
  },
  {
   "cell_type": "code",
   "execution_count": null,
   "metadata": {},
   "outputs": [],
   "source": [
    "#>>> df.drop(columns=['B', 'C'])\n",
    "\n",
    "\n",
    "resultado_final3 = resultado_final2.drop(['fila','columna','Filas','Columnas'], axis=1)\n",
    "resultado_final3.index.name = \"index\"\n",
    "resultado_final3.to_csv('simulacion_final.csv' , encoding=\"UTF-8\" , sep='|')"
   ]
  }
 ],
 "metadata": {
  "kernelspec": {
   "display_name": "Python 3",
   "language": "python",
   "name": "python3"
  },
  "language_info": {
   "codemirror_mode": {
    "name": "ipython",
    "version": 3
   },
   "file_extension": ".py",
   "mimetype": "text/x-python",
   "name": "python",
   "nbconvert_exporter": "python",
   "pygments_lexer": "ipython3",
   "version": "3.7.3"
  }
 },
 "nbformat": 4,
 "nbformat_minor": 2
}
